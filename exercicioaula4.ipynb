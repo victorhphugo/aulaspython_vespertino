{
 "cells": [
  {
   "cell_type": "code",
   "execution_count": 6,
   "metadata": {},
   "outputs": [
    {
     "name": "stdout",
     "output_type": "stream",
     "text": [
      "------------------------------ BOLETIM ESCOLA ------------------------------\n",
      " Ola 10 suas notas deste mes foram de:\n",
      "matematica:10.0\n",
      "portugues:10.0\n",
      "geografia10.0\n",
      "historia:10.0\n",
      "fisica10.0\n",
      "MEDIA GERAL:10.00\n"
     ]
    }
   ],
   "source": [
    "print(30*\"-\",'BOLETIM ESCOLA',30*\"-\")\n",
    "\n",
    "nome = input('digite seu nome: ')\n",
    "\n",
    "mat = input('digite a notade matematica: ')\n",
    "mat = float(mat)\n",
    "\n",
    "port= input('digite a nota de portugues: ')\n",
    "port= float(port)\n",
    "\n",
    "geo= input('digite a nota de geografia: ')\n",
    "geo= float(geo)\n",
    "\n",
    "hist= input('digite a nota de historia: ')\n",
    "hist= float(hist)\n",
    "\n",
    "fisi= input('digite a nota de fisica: ')\n",
    "fisi= float(fisi)\n",
    "\n",
    "media = (mat + port + geo + hist + fisi) /5\n",
    "\n",
    "\n",
    "print(f' Ola {nome} suas notas deste mes foram de:\\nmatematica:{mat}\\nportugues:{port}\\ngeografia{geo}\\nhistoria:{hist}\\nfisica{fisi}\\nMEDIA GERAL:{media:.2f}')\n",
    "print(60*\"-\")\n"
   ]
  }
 ],
 "metadata": {
  "kernelspec": {
   "display_name": "Python 3",
   "language": "python",
   "name": "python3"
  },
  "language_info": {
   "codemirror_mode": {
    "name": "ipython",
    "version": 3
   },
   "file_extension": ".py",
   "mimetype": "text/x-python",
   "name": "python",
   "nbconvert_exporter": "python",
   "pygments_lexer": "ipython3",
   "version": "3.12.4"
  }
 },
 "nbformat": 4,
 "nbformat_minor": 2
}
