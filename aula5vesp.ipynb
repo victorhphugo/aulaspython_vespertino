{
 "cells": [
  {
   "cell_type": "markdown",
   "metadata": {},
   "source": [
    "## if e else - são condições  para tomada de decisões "
   ]
  },
  {
   "cell_type": "code",
   "execution_count": 1,
   "metadata": {},
   "outputs": [
    {
     "name": "stdout",
     "output_type": "stream",
     "text": [
      "if falso\n",
      "finalizou o codigo\n"
     ]
    }
   ],
   "source": [
    "progamador = False\n",
    "\n",
    "if progamador:\n",
    "    print('if é verdadeiro')\n",
    "\n",
    "\n",
    "else:\n",
    "    print(\"if falso\")\n",
    "\n",
    "print('finalizou o codigo')"
   ]
  },
  {
   "cell_type": "code",
   "execution_count": 4,
   "metadata": {},
   "outputs": [
    {
     "name": "stdout",
     "output_type": "stream",
     "text": [
      "o numero532 é par !\n"
     ]
    }
   ],
   "source": [
    "numero = input(\"digite um numero para saber se é par ou impar:\")\n",
    "numero =int(numero)\n",
    "\n",
    "\n",
    "if numero % 2 == 0:\n",
    "    print(f'o numero {numero} é par !')\n",
    "\n",
    "else:\n",
    "    print(f'o numero {numero} é impar !')\n",
    "\n",
    "\n"
   ]
  },
  {
   "cell_type": "markdown",
   "metadata": {},
   "source": [
    "## Desafio 2 \n",
    "\n",
    "-um elevador de carga possui capacidade de carga para 200kg.\n",
    "\n",
    "    -crie um progama que receba do usuario o peso da carga , ou seu peso e verifica se a carga esta autorizada a usar o elevador ou nao."
   ]
  },
  {
   "cell_type": "code",
   "execution_count": 10,
   "metadata": {},
   "outputs": [
    {
     "name": "stdout",
     "output_type": "stream",
     "text": [
      "ultilização do elevador proibida!\n",
      "250kg excedido!\n"
     ]
    }
   ],
   "source": [
    "carga = input(\"digite quantos kgs\")\n",
    "carga = int(carga)\n",
    "\n",
    "if carga <= 200:\n",
    "    print(f\"autorizado o uso do elevador!\\n{carga}kg permitido!\")\n",
    "\n",
    "else:\n",
    "    print(f\"ultilização do elevador proibida!\\n{carga}kg excedido!\")"
   ]
  },
  {
   "cell_type": "markdown",
   "metadata": {},
   "source": []
  },
  {
   "cell_type": "code",
   "execution_count": null,
   "metadata": {},
   "outputs": [],
   "source": [
    "nome = input(\"digite seu nome:\").upper()\n",
    "idade = input(\"digite sua idade:\")\n",
    "idade = int(idade)\n",
    "cpf = input(\"digite seu cpf:\")\n",
    "\n",
    "notajan = input(\"digite sua nota de janeiro:\")\n",
    "notafev = input(\"digite sua nota de fevereiro\")\n",
    "notamarç = input(\"digite sua nota de março:\")\n",
    "notaabril = input(\"digite a nota de abril:\")\n",
    "\n",
    "notajan = float(notajan)\n",
    "notafev = float(notafev)\n",
    "notamarç = float(notamarç)\n",
    "notaabril = float(notaabril)\n",
    "\n",
    "media = (notajan + notafev + notamarç + notaabril) /4\n",
    "\n",
    "\n",
    "\n",
    "\n",
    "if media >= 7\n",
    "    print(f\"voce foi aprovado ! \\nPARABENS!!\")\n",
    "    \n",
    "elif >= 5\n",
    "print(\"voce esta de reculperação!\")\n",
    "\n",
    "else <= 5:\n",
    "    print(\"VOCE FOI REPROVADO!:\")\n",
    "\n"
   ]
  }
 ],
 "metadata": {
  "kernelspec": {
   "display_name": "Python 3",
   "language": "python",
   "name": "python3"
  },
  "language_info": {
   "codemirror_mode": {
    "name": "ipython",
    "version": 3
   },
   "file_extension": ".py",
   "mimetype": "text/x-python",
   "name": "python",
   "nbconvert_exporter": "python",
   "pygments_lexer": "ipython3",
   "version": "3.12.4"
  }
 },
 "nbformat": 4,
 "nbformat_minor": 2
}
