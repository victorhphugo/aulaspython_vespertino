{
 "cells": [
  {
   "cell_type": "markdown",
   "metadata": {},
   "source": [
    "## Atividade \n",
    "\n",
    "- crie um progama para o boletim de notas do aluno , guarde o nome do aluno , as notas e caucule a media finaldo aluno \n",
    "-Diciplinas :\n",
    "\n",
    "    - Matematica\n",
    "    - Portugues\n",
    "    - Geografia\n",
    "    - Historia\n",
    "    - Fisica\n",
    "\n",
    "\n",
    "\n",
    "- ao obter as notas e a media fas notas , imprima o boletim do aluno informando as notas das materias e com quanto ficoyu de media \n",
    "\n"
   ]
  }
 ],
 "metadata": {
  "language_info": {
   "name": "python"
  }
 },
 "nbformat": 4,
 "nbformat_minor": 2
}
